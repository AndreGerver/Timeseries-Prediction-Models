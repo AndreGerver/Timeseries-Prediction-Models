{
 "cells": [
  {
   "cell_type": "code",
   "execution_count": 1,
   "metadata": {},
   "outputs": [],
   "source": [
    "import numpy as np\n",
    "import pandas as pd\n",
    "import time\n",
    "import matplotlib.pyplot as plt\n",
    "import seaborn as sns\n",
    "import random\n",
    "from bayes_opt import BayesianOptimization\n",
    "import json\n",
    "from pprint import pprint\n",
    "sns.set()"
   ]
  },
  {
   "cell_type": "code",
   "execution_count": 2,
   "metadata": {},
   "outputs": [],
   "source": [
    "def get_state(data, t, n):\n",
    "    d = t - n + 1\n",
    "    block = data[d : t + 1] if d >= 0 else -d * [data[0]] + data[0 : t + 1]\n",
    "    res = []\n",
    "    for i in range(n - 1):\n",
    "        res.append(block[i + 1] - block[i])\n",
    "    return np.array([res])"
   ]
  },
  {
   "cell_type": "code",
   "execution_count": 3,
   "metadata": {},
   "outputs": [
    {
     "data": {
      "text/html": [
       "<div>\n",
       "<style scoped>\n",
       "    .dataframe tbody tr th:only-of-type {\n",
       "        vertical-align: middle;\n",
       "    }\n",
       "\n",
       "    .dataframe tbody tr th {\n",
       "        vertical-align: top;\n",
       "    }\n",
       "\n",
       "    .dataframe thead th {\n",
       "        text-align: right;\n",
       "    }\n",
       "</style>\n",
       "<table border=\"1\" class=\"dataframe\">\n",
       "  <thead>\n",
       "    <tr style=\"text-align: right;\">\n",
       "      <th></th>\n",
       "      <th>Date</th>\n",
       "      <th>Open</th>\n",
       "      <th>High</th>\n",
       "      <th>Low</th>\n",
       "      <th>Close</th>\n",
       "      <th>Adj Close</th>\n",
       "      <th>Volume</th>\n",
       "    </tr>\n",
       "  </thead>\n",
       "  <tbody>\n",
       "    <tr>\n",
       "      <th>0</th>\n",
       "      <td>2017-10-02</td>\n",
       "      <td>959.979980</td>\n",
       "      <td>962.539978</td>\n",
       "      <td>947.840027</td>\n",
       "      <td>953.270020</td>\n",
       "      <td>953.270020</td>\n",
       "      <td>1283400</td>\n",
       "    </tr>\n",
       "    <tr>\n",
       "      <th>1</th>\n",
       "      <td>2017-10-03</td>\n",
       "      <td>954.000000</td>\n",
       "      <td>958.000000</td>\n",
       "      <td>949.140015</td>\n",
       "      <td>957.789978</td>\n",
       "      <td>957.789978</td>\n",
       "      <td>888300</td>\n",
       "    </tr>\n",
       "    <tr>\n",
       "      <th>2</th>\n",
       "      <td>2017-10-04</td>\n",
       "      <td>957.000000</td>\n",
       "      <td>960.390015</td>\n",
       "      <td>950.690002</td>\n",
       "      <td>951.679993</td>\n",
       "      <td>951.679993</td>\n",
       "      <td>952400</td>\n",
       "    </tr>\n",
       "    <tr>\n",
       "      <th>3</th>\n",
       "      <td>2017-10-05</td>\n",
       "      <td>955.489990</td>\n",
       "      <td>970.909973</td>\n",
       "      <td>955.179993</td>\n",
       "      <td>969.960022</td>\n",
       "      <td>969.960022</td>\n",
       "      <td>1213800</td>\n",
       "    </tr>\n",
       "    <tr>\n",
       "      <th>4</th>\n",
       "      <td>2017-10-06</td>\n",
       "      <td>966.700012</td>\n",
       "      <td>979.460022</td>\n",
       "      <td>963.359985</td>\n",
       "      <td>978.890015</td>\n",
       "      <td>978.890015</td>\n",
       "      <td>1173900</td>\n",
       "    </tr>\n",
       "  </tbody>\n",
       "</table>\n",
       "</div>"
      ],
      "text/plain": [
       "         Date        Open        High         Low       Close   Adj Close  \\\n",
       "0  2017-10-02  959.979980  962.539978  947.840027  953.270020  953.270020   \n",
       "1  2017-10-03  954.000000  958.000000  949.140015  957.789978  957.789978   \n",
       "2  2017-10-04  957.000000  960.390015  950.690002  951.679993  951.679993   \n",
       "3  2017-10-05  955.489990  970.909973  955.179993  969.960022  969.960022   \n",
       "4  2017-10-06  966.700012  979.460022  963.359985  978.890015  978.890015   \n",
       "\n",
       "    Volume  \n",
       "0  1283400  \n",
       "1   888300  \n",
       "2   952400  \n",
       "3  1213800  \n",
       "4  1173900  "
      ]
     },
     "execution_count": 3,
     "metadata": {},
     "output_type": "execute_result"
    }
   ],
   "source": [
    "df = pd.read_csv('../dataset/GOOG.csv')\n",
    "df.head()"
   ]
  },
  {
   "cell_type": "code",
   "execution_count": 4,
   "metadata": {},
   "outputs": [],
   "source": [
    "close = df.Close.values.tolist()\n",
    "window_size = 30\n",
    "skip = 5\n",
    "l = len(close) - 1"
   ]
  },
  {
   "cell_type": "code",
   "execution_count": 5,
   "metadata": {},
   "outputs": [],
   "source": [
    "class Deep_Evolution_Strategy:\n",
    "\n",
    "    inputs = None\n",
    "\n",
    "    def __init__(\n",
    "        self, weights, reward_function, population_size, sigma, learning_rate\n",
    "    ):\n",
    "        self.weights = weights\n",
    "        self.reward_function = reward_function\n",
    "        self.population_size = population_size\n",
    "        self.sigma = sigma\n",
    "        self.learning_rate = learning_rate\n",
    "\n",
    "    def _get_weight_from_population(self, weights, population):\n",
    "        weights_population = []\n",
    "        for index, i in enumerate(population):\n",
    "            jittered = self.sigma * i\n",
    "            weights_population.append(weights[index] + jittered)\n",
    "        return weights_population\n",
    "\n",
    "    def get_weights(self):\n",
    "        return self.weights\n",
    "\n",
    "    def train(self, epoch = 100, print_every = 1):\n",
    "        lasttime = time.time()\n",
    "        for i in range(epoch):\n",
    "            population = []\n",
    "            rewards = np.zeros(self.population_size)\n",
    "            for k in range(self.population_size):\n",
    "                x = []\n",
    "                for w in self.weights:\n",
    "                    x.append(np.random.randn(*w.shape))\n",
    "                population.append(x)\n",
    "            for k in range(self.population_size):\n",
    "                weights_population = self._get_weight_from_population(\n",
    "                    self.weights, population[k]\n",
    "                )\n",
    "                rewards[k] = self.reward_function(weights_population)\n",
    "            rewards = (rewards - np.mean(rewards)) / np.std(rewards)\n",
    "            for index, w in enumerate(self.weights):\n",
    "                A = np.array([p[index] for p in population])\n",
    "                self.weights[index] = (\n",
    "                    w\n",
    "                    + self.learning_rate\n",
    "                    / (self.population_size * self.sigma)\n",
    "                    * np.dot(A.T, rewards).T\n",
    "                )\n",
    "            if (i + 1) % print_every == 0:\n",
    "                print(\n",
    "                    'iter %d. reward: %f'\n",
    "                    % (i + 1, self.reward_function(self.weights))\n",
    "                )\n",
    "        print('time taken to train:', time.time() - lasttime, 'seconds')\n",
    "\n",
    "\n",
    "class Model:\n",
    "    def __init__(self, input_size, layer_size, output_size):\n",
    "        self.weights = [\n",
    "            np.random.randn(input_size, layer_size),\n",
    "            np.random.randn(layer_size, output_size),\n",
    "            np.random.randn(layer_size, 1),\n",
    "            np.random.randn(1, layer_size),\n",
    "        ]\n",
    "\n",
    "    def predict(self, inputs):\n",
    "        feed = np.dot(inputs, self.weights[0]) + self.weights[-1]\n",
    "        decision = np.dot(feed, self.weights[1])\n",
    "        buy = np.dot(feed, self.weights[2])\n",
    "        return decision, buy\n",
    "\n",
    "    def get_weights(self):\n",
    "        return self.weights\n",
    "\n",
    "    def set_weights(self, weights):\n",
    "        self.weights = weights"
   ]
  },
  {
   "cell_type": "code",
   "execution_count": 6,
   "metadata": {},
   "outputs": [],
   "source": [
    "class Agent:\n",
    "    def __init__(\n",
    "        self,\n",
    "        population_size,\n",
    "        sigma,\n",
    "        learning_rate,\n",
    "        model,\n",
    "        money,\n",
    "        max_buy,\n",
    "        max_sell,\n",
    "        skip,\n",
    "        window_size,\n",
    "    ):\n",
    "        self.window_size = window_size\n",
    "        self.skip = skip\n",
    "        self.POPULATION_SIZE = population_size\n",
    "        self.SIGMA = sigma\n",
    "        self.LEARNING_RATE = learning_rate\n",
    "        self.model = model\n",
    "        self.initial_money = money\n",
    "        self.max_buy = max_buy\n",
    "        self.max_sell = max_sell\n",
    "        self.es = Deep_Evolution_Strategy(\n",
    "            self.model.get_weights(),\n",
    "            self.get_reward,\n",
    "            self.POPULATION_SIZE,\n",
    "            self.SIGMA,\n",
    "            self.LEARNING_RATE,\n",
    "        )\n",
    "\n",
    "    def act(self, sequence):\n",
    "        decision, buy = self.model.predict(np.array(sequence))\n",
    "        return np.argmax(decision[0]), int(buy[0])\n",
    "\n",
    "    def get_reward(self, weights):\n",
    "        initial_money = self.initial_money\n",
    "        starting_money = initial_money\n",
    "        self.model.weights = weights\n",
    "        state = get_state(close, 0, self.window_size + 1)\n",
    "        inventory = []\n",
    "        quantity = 0\n",
    "        for t in range(0, l, self.skip):\n",
    "            action, buy = self.act(state)\n",
    "            next_state = get_state(close, t + 1, self.window_size + 1)\n",
    "            if action == 1 and initial_money >= close[t]:\n",
    "                if buy < 0:\n",
    "                    buy = 1\n",
    "                if buy > self.max_buy:\n",
    "                    buy_units = self.max_buy\n",
    "                else:\n",
    "                    buy_units = buy\n",
    "                total_buy = buy_units * close[t]\n",
    "                initial_money -= total_buy\n",
    "                inventory.append(total_buy)\n",
    "                quantity += buy_units\n",
    "            elif action == 2 and len(inventory) > 0:\n",
    "                if quantity > self.max_sell:\n",
    "                    sell_units = self.max_sell\n",
    "                else:\n",
    "                    sell_units = quantity\n",
    "                quantity -= sell_units\n",
    "                total_sell = sell_units * close[t]\n",
    "                initial_money += total_sell\n",
    "\n",
    "            state = next_state\n",
    "        return ((initial_money - starting_money) / starting_money) * 100\n",
    "\n",
    "    def fit(self, iterations, checkpoint):\n",
    "        self.es.train(iterations, print_every = checkpoint)\n",
    "\n",
    "    def buy(self):\n",
    "        initial_money = self.initial_money\n",
    "        state = get_state(close, 0, self.window_size + 1)\n",
    "        starting_money = initial_money\n",
    "        states_sell = []\n",
    "        states_buy = []\n",
    "        inventory = []\n",
    "        quantity = 0\n",
    "        for t in range(0, l, self.skip):\n",
    "            action, buy = self.act(state)\n",
    "            next_state = get_state(close, t + 1, self.window_size + 1)\n",
    "            if action == 1 and initial_money >= close[t]:\n",
    "                if buy < 0:\n",
    "                    buy = 1\n",
    "                if buy > self.max_buy:\n",
    "                    buy_units = self.max_buy\n",
    "                else:\n",
    "                    buy_units = buy\n",
    "                total_buy = buy_units * close[t]\n",
    "                initial_money -= total_buy\n",
    "                inventory.append(total_buy)\n",
    "                quantity += buy_units\n",
    "                states_buy.append(t)\n",
    "                print(\n",
    "                    'day %d: buy %d units at price %f, total balance %f'\n",
    "                    % (t, buy_units, total_buy, initial_money)\n",
    "                )\n",
    "            elif action == 2 and len(inventory) > 0:\n",
    "                bought_price = inventory.pop(0)\n",
    "                if quantity > self.max_sell:\n",
    "                    sell_units = self.max_sell\n",
    "                else:\n",
    "                    sell_units = quantity\n",
    "                if sell_units < 1:\n",
    "                    continue\n",
    "                quantity -= sell_units\n",
    "                total_sell = sell_units * close[t]\n",
    "                initial_money += total_sell\n",
    "                states_sell.append(t)\n",
    "                try:\n",
    "                    invest = ((total_sell - bought_price) / bought_price) * 100\n",
    "                except:\n",
    "                    invest = 0\n",
    "                print(\n",
    "                    'day %d, sell %d units at price %f, investment %f %%, total balance %f,'\n",
    "                    % (t, sell_units, total_sell, invest, initial_money)\n",
    "                )\n",
    "            state = next_state\n",
    "\n",
    "        invest = ((initial_money - starting_money) / starting_money) * 100\n",
    "        print(\n",
    "            '\\ntotal gained %f, total investment %f %%'\n",
    "            % (initial_money - starting_money, invest)\n",
    "        )\n",
    "        plt.figure(figsize = (20, 10))\n",
    "        plt.plot(close, label = 'true close', c = 'g')\n",
    "        plt.plot(\n",
    "            close, 'X', label = 'predict buy', markevery = states_buy, c = 'b'\n",
    "        )\n",
    "        plt.plot(\n",
    "            close, 'o', label = 'predict sell', markevery = states_sell, c = 'r'\n",
    "        )\n",
    "        plt.legend()\n",
    "        plt.show()"
   ]
  },
  {
   "cell_type": "code",
   "execution_count": 7,
   "metadata": {},
   "outputs": [],
   "source": [
    "def best_agent(\n",
    "    window_size, skip, population_size, sigma, learning_rate, size_network\n",
    "):\n",
    "    model = Model(window_size, size_network, 3)\n",
    "    agent = Agent(\n",
    "        population_size,\n",
    "        sigma,\n",
    "        learning_rate,\n",
    "        model,\n",
    "        10000,\n",
    "        5,\n",
    "        5,\n",
    "        skip,\n",
    "        window_size,\n",
    "    )\n",
    "    try:\n",
    "        agent.fit(10, 1000)\n",
    "        return agent.es.reward_function(agent.es.weights)\n",
    "    except:\n",
    "        return 0"
   ]
  },
  {
   "cell_type": "code",
   "execution_count": 8,
   "metadata": {},
   "outputs": [],
   "source": [
    "def find_best_agent(\n",
    "    window_size, skip, population_size, sigma, learning_rate, size_network\n",
    "):\n",
    "    global accbest\n",
    "    param = {\n",
    "        'window_size': int(np.around(window_size)),\n",
    "        'skip': int(np.around(skip)),\n",
    "        'population_size': int(np.around(population_size)),\n",
    "        'sigma': max(min(sigma, 1), 0.0001),\n",
    "        'learning_rate': max(min(learning_rate, 0.5), 0.000001),\n",
    "        'size_network': int(np.around(size_network)),\n",
    "    }\n",
    "    print('\\nSearch parameters %s' % (param))\n",
    "    investment = best_agent(**param)\n",
    "    print('stop after 100 iteration with investment %f' % (investment))\n",
    "    if investment > accbest:\n",
    "        costbest = investment\n",
    "    return investment"
   ]
  },
  {
   "cell_type": "code",
   "execution_count": 9,
   "metadata": {},
   "outputs": [
    {
     "name": "stdout",
     "output_type": "stream",
     "text": [
      "|   iter    |  target   | learni... | popula... |   sigma   | size_n... |   skip    | window... |\n",
      "-------------------------------------------------------------------------------------------------\n",
      "\n",
      "Search parameters {'window_size': 41, 'skip': 12, 'population_size': 44, 'sigma': 0.46137729366237473, 'learning_rate': 0.31105292767202336, 'size_network': 444}\n",
      "time taken to train: 2.682731866836548 seconds\n",
      "stop after 100 iteration with investment 0.395400\n",
      "| \u001b[0m 1       \u001b[0m | \u001b[0m 0.3954  \u001b[0m | \u001b[0m 0.3111  \u001b[0m | \u001b[0m 43.76   \u001b[0m | \u001b[0m 0.4614  \u001b[0m | \u001b[0m 444.0   \u001b[0m | \u001b[0m 12.09   \u001b[0m | \u001b[0m 40.84   \u001b[0m |\n",
      "\n",
      "Search parameters {'window_size': 16, 'skip': 10, 'population_size': 35, 'sigma': 0.7324832941595844, 'learning_rate': 0.09052210105621832, 'size_network': 938}\n",
      "time taken to train: 3.0886778831481934 seconds\n",
      "stop after 100 iteration with investment 0.000000\n",
      "| \u001b[0m 2       \u001b[0m | \u001b[0m 0.0     \u001b[0m | \u001b[0m 0.09052 \u001b[0m | \u001b[0m 35.22   \u001b[0m | \u001b[0m 0.7325  \u001b[0m | \u001b[0m 937.9   \u001b[0m | \u001b[0m 10.4    \u001b[0m | \u001b[0m 16.48   \u001b[0m |\n",
      "\n",
      "Search parameters {'window_size': 11, 'skip': 7, 'population_size': 34, 'sigma': 0.3576834956066886, 'learning_rate': 0.025420926333803207, 'size_network': 898}\n",
      "time taken to train: 3.7462966442108154 seconds\n",
      "stop after 100 iteration with investment -10.166400\n",
      "| \u001b[0m 3       \u001b[0m | \u001b[0m-10.17   \u001b[0m | \u001b[0m 0.02542 \u001b[0m | \u001b[0m 34.36   \u001b[0m | \u001b[0m 0.3577  \u001b[0m | \u001b[0m 898.3   \u001b[0m | \u001b[0m 7.347   \u001b[0m | \u001b[0m 11.15   \u001b[0m |\n",
      "\n",
      "Search parameters {'window_size': 37, 'skip': 5, 'population_size': 21, 'sigma': 0.5289112639284543, 'learning_rate': 0.0657309834544634, 'size_network': 908}\n",
      "time taken to train: 3.051384925842285 seconds\n",
      "stop after 100 iteration with investment -7.487001\n",
      "| \u001b[0m 4       \u001b[0m | \u001b[0m-7.487   \u001b[0m | \u001b[0m 0.06573 \u001b[0m | \u001b[0m 21.17   \u001b[0m | \u001b[0m 0.5289  \u001b[0m | \u001b[0m 907.8   \u001b[0m | \u001b[0m 4.605   \u001b[0m | \u001b[0m 36.81   \u001b[0m |\n",
      "\n",
      "Search parameters {'window_size': 43, 'skip': 2, 'population_size': 14, 'sigma': 0.10340007456968688, 'learning_rate': 0.28728209064881666, 'size_network': 428}\n",
      "time taken to train: 4.496729850769043 seconds\n",
      "stop after 100 iteration with investment 0.525601\n",
      "| \u001b[95m 5       \u001b[0m | \u001b[95m 0.5256  \u001b[0m | \u001b[95m 0.2873  \u001b[0m | \u001b[95m 13.68   \u001b[0m | \u001b[95m 0.1034  \u001b[0m | \u001b[95m 427.9   \u001b[0m | \u001b[95m 2.268   \u001b[0m | \u001b[95m 42.8    \u001b[0m |\n",
      "\n",
      "Search parameters {'window_size': 10, 'skip': 13, 'population_size': 22, 'sigma': 0.8417838241205382, 'learning_rate': 0.14222618520043273, 'size_network': 944}\n",
      "time taken to train: 1.2714104652404785 seconds\n",
      "stop after 100 iteration with investment 0.000000\n",
      "| \u001b[0m 6       \u001b[0m | \u001b[0m 0.0     \u001b[0m | \u001b[0m 0.1422  \u001b[0m | \u001b[0m 22.26   \u001b[0m | \u001b[0m 0.8418  \u001b[0m | \u001b[0m 944.5   \u001b[0m | \u001b[0m 13.03   \u001b[0m | \u001b[0m 9.698   \u001b[0m |\n",
      "\n",
      "Search parameters {'window_size': 15, 'skip': 11, 'population_size': 34, 'sigma': 0.49427016222850967, 'learning_rate': 0.16590642526225305, 'size_network': 281}\n",
      "stop after 100 iteration with investment 0.000000\n",
      "| \u001b[0m 7       \u001b[0m | \u001b[0m 0.0     \u001b[0m | \u001b[0m 0.1659  \u001b[0m | \u001b[0m 33.58   \u001b[0m | \u001b[0m 0.4943  \u001b[0m | \u001b[0m 280.9   \u001b[0m | \u001b[0m 10.92   \u001b[0m | \u001b[0m 15.08   \u001b[0m |\n",
      "\n",
      "Search parameters {'window_size': 33, 'skip': 2, 'population_size': 2, 'sigma': 0.2787323633610325, 'learning_rate': 0.23140009154252553, 'size_network': 31}\n",
      "stop after 100 iteration with investment 0.000000\n",
      "| \u001b[0m 8       \u001b[0m | \u001b[0m 0.0     \u001b[0m | \u001b[0m 0.2314  \u001b[0m | \u001b[0m 1.714   \u001b[0m | \u001b[0m 0.2787  \u001b[0m | \u001b[0m 31.23   \u001b[0m | \u001b[0m 2.168   \u001b[0m | \u001b[0m 32.54   \u001b[0m |\n",
      "\n",
      "Search parameters {'window_size': 6, 'skip': 12, 'population_size': 19, 'sigma': 0.40655191821890313, 'learning_rate': 0.3161298266643208, 'size_network': 522}\n",
      "stop after 100 iteration with investment 0.000000\n",
      "| \u001b[0m 9       \u001b[0m | \u001b[0m 0.0     \u001b[0m | \u001b[0m 0.3161  \u001b[0m | \u001b[0m 19.31   \u001b[0m | \u001b[0m 0.4066  \u001b[0m | \u001b[0m 521.9   \u001b[0m | \u001b[0m 11.97   \u001b[0m | \u001b[0m 6.479   \u001b[0m |\n",
      "\n",
      "Search parameters {'window_size': 36, 'skip': 11, 'population_size': 3, 'sigma': 0.19685681478596007, 'learning_rate': 0.3779805983499288, 'size_network': 124}\n",
      "stop after 100 iteration with investment 0.000000\n",
      "| \u001b[0m 10      \u001b[0m | \u001b[0m 0.0     \u001b[0m | \u001b[0m 0.378   \u001b[0m | \u001b[0m 3.007   \u001b[0m | \u001b[0m 0.1969  \u001b[0m | \u001b[0m 123.6   \u001b[0m | \u001b[0m 10.88   \u001b[0m | \u001b[0m 35.56   \u001b[0m |\n",
      "\n",
      "Search parameters {'window_size': 8, 'skip': 8, 'population_size': 14, 'sigma': 0.5743809439340262, 'learning_rate': 0.42793385426774716, 'size_network': 124}\n",
      "time taken to train: 0.014009237289428711 seconds\n",
      "stop after 100 iteration with investment 1.728000\n",
      "| \u001b[95m 11      \u001b[0m | \u001b[95m 1.728   \u001b[0m | \u001b[95m 0.4279  \u001b[0m | \u001b[95m 14.33   \u001b[0m | \u001b[95m 0.5744  \u001b[0m | \u001b[95m 124.4   \u001b[0m | \u001b[95m 8.237   \u001b[0m | \u001b[95m 7.757   \u001b[0m |\n",
      "\n",
      "Search parameters {'window_size': 7, 'skip': 6, 'population_size': 33, 'sigma': 0.8252449746376307, 'learning_rate': 0.04269783828758082, 'size_network': 681}\n",
      "time taken to train: 0.10258960723876953 seconds\n",
      "stop after 100 iteration with investment 0.000000\n",
      "| \u001b[0m 12      \u001b[0m | \u001b[0m 0.0     \u001b[0m | \u001b[0m 0.0427  \u001b[0m | \u001b[0m 33.5    \u001b[0m | \u001b[0m 0.8252  \u001b[0m | \u001b[0m 680.9   \u001b[0m | \u001b[0m 5.917   \u001b[0m | \u001b[0m 7.292   \u001b[0m |\n",
      "\n",
      "Search parameters {'window_size': 29, 'skip': 5, 'population_size': 15, 'sigma': 0.5421709086818114, 'learning_rate': 0.43325510835169667, 'size_network': 762}\n"
     ]
    },
    {
     "name": "stderr",
     "output_type": "stream",
     "text": [
      "/usr/lib/python3.7/site-packages/ipykernel_launcher.py:39: RuntimeWarning: invalid value encountered in true_divide\n"
     ]
    },
    {
     "name": "stdout",
     "output_type": "stream",
     "text": [
      "time taken to train: 2.1516976356506348 seconds\n",
      "stop after 100 iteration with investment 0.000000\n",
      "| \u001b[0m 13      \u001b[0m | \u001b[0m 0.0     \u001b[0m | \u001b[0m 0.4333  \u001b[0m | \u001b[0m 14.84   \u001b[0m | \u001b[0m 0.5422  \u001b[0m | \u001b[0m 761.7   \u001b[0m | \u001b[0m 5.114   \u001b[0m | \u001b[0m 28.5    \u001b[0m |\n",
      "\n",
      "Search parameters {'window_size': 15, 'skip': 6, 'population_size': 27, 'sigma': 0.3553869673875342, 'learning_rate': 0.36935002189613014, 'size_network': 215}\n",
      "time taken to train: 0.05280923843383789 seconds\n",
      "stop after 100 iteration with investment 1.203401\n",
      "| \u001b[0m 14      \u001b[0m | \u001b[0m 1.203   \u001b[0m | \u001b[0m 0.3694  \u001b[0m | \u001b[0m 26.57   \u001b[0m | \u001b[0m 0.3554  \u001b[0m | \u001b[0m 214.8   \u001b[0m | \u001b[0m 5.666   \u001b[0m | \u001b[0m 14.59   \u001b[0m |\n",
      "\n",
      "Search parameters {'window_size': 39, 'skip': 12, 'population_size': 13, 'sigma': 0.4589762904618531, 'learning_rate': 0.3811277894022996, 'size_network': 217}\n",
      "stop after 100 iteration with investment 0.000000\n",
      "| \u001b[0m 15      \u001b[0m | \u001b[0m 0.0     \u001b[0m | \u001b[0m 0.3811  \u001b[0m | \u001b[0m 12.67   \u001b[0m | \u001b[0m 0.459   \u001b[0m | \u001b[0m 216.6   \u001b[0m | \u001b[0m 12.5    \u001b[0m | \u001b[0m 38.94   \u001b[0m |\n",
      "\n",
      "Search parameters {'window_size': 40, 'skip': 7, 'population_size': 38, 'sigma': 0.20792649416556708, 'learning_rate': 0.39017730157972413, 'size_network': 247}\n",
      "stop after 100 iteration with investment 0.000000\n",
      "| \u001b[0m 16      \u001b[0m | \u001b[0m 0.0     \u001b[0m | \u001b[0m 0.3902  \u001b[0m | \u001b[0m 38.09   \u001b[0m | \u001b[0m 0.2079  \u001b[0m | \u001b[0m 247.1   \u001b[0m | \u001b[0m 7.166   \u001b[0m | \u001b[0m 40.43   \u001b[0m |\n",
      "\n",
      "Search parameters {'window_size': 37, 'skip': 7, 'population_size': 24, 'sigma': 0.2738357399037004, 'learning_rate': 0.21105952258979835, 'size_network': 577}\n",
      "time taken to train: 2.7894604206085205 seconds\n",
      "stop after 100 iteration with investment 1.798999\n",
      "| \u001b[95m 17      \u001b[0m | \u001b[95m 1.799   \u001b[0m | \u001b[95m 0.2111  \u001b[0m | \u001b[95m 23.6    \u001b[0m | \u001b[95m 0.2738  \u001b[0m | \u001b[95m 576.9   \u001b[0m | \u001b[95m 6.538   \u001b[0m | \u001b[95m 37.32   \u001b[0m |\n",
      "\n",
      "Search parameters {'window_size': 21, 'skip': 6, 'population_size': 22, 'sigma': 0.8524200530702913, 'learning_rate': 0.4722727746398087, 'size_network': 63}\n",
      "time taken to train: 0.027002334594726562 seconds\n",
      "stop after 100 iteration with investment 0.000000\n",
      "| \u001b[0m 18      \u001b[0m | \u001b[0m 0.0     \u001b[0m | \u001b[0m 0.4723  \u001b[0m | \u001b[0m 21.86   \u001b[0m | \u001b[0m 0.8524  \u001b[0m | \u001b[0m 62.89   \u001b[0m | \u001b[0m 5.864   \u001b[0m | \u001b[0m 20.89   \u001b[0m |\n",
      "\n",
      "Search parameters {'window_size': 6, 'skip': 12, 'population_size': 21, 'sigma': 0.8656530750785113, 'learning_rate': 0.1479730785072628, 'size_network': 208}\n",
      "time taken to train: 0.02455282211303711 seconds\n",
      "stop after 100 iteration with investment 0.000000\n",
      "| \u001b[0m 19      \u001b[0m | \u001b[0m 0.0     \u001b[0m | \u001b[0m 0.148   \u001b[0m | \u001b[0m 20.79   \u001b[0m | \u001b[0m 0.8657  \u001b[0m | \u001b[0m 207.9   \u001b[0m | \u001b[0m 11.59   \u001b[0m | \u001b[0m 5.531   \u001b[0m |\n",
      "\n",
      "Search parameters {'window_size': 43, 'skip': 5, 'population_size': 26, 'sigma': 0.7773364568642629, 'learning_rate': 0.24695560327939114, 'size_network': 942}\n",
      "time taken to train: 3.968142509460449 seconds\n",
      "stop after 100 iteration with investment 0.000000\n",
      "| \u001b[0m 20      \u001b[0m | \u001b[0m 0.0     \u001b[0m | \u001b[0m 0.247   \u001b[0m | \u001b[0m 25.82   \u001b[0m | \u001b[0m 0.7773  \u001b[0m | \u001b[0m 941.9   \u001b[0m | \u001b[0m 5.101   \u001b[0m | \u001b[0m 42.57   \u001b[0m |\n",
      "\n",
      "Search parameters {'window_size': 47, 'skip': 13, 'population_size': 22, 'sigma': 0.6802625483702962, 'learning_rate': 0.4838426818975696, 'size_network': 698}\n",
      "stop after 100 iteration with investment 0.000000\n",
      "| \u001b[0m 21      \u001b[0m | \u001b[0m 0.0     \u001b[0m | \u001b[0m 0.4838  \u001b[0m | \u001b[0m 22.31   \u001b[0m | \u001b[0m 0.6803  \u001b[0m | \u001b[0m 698.1   \u001b[0m | \u001b[0m 13.15   \u001b[0m | \u001b[0m 46.59   \u001b[0m |\n",
      "\n",
      "Search parameters {'window_size': 10, 'skip': 10, 'population_size': 4, 'sigma': 0.9013666627237553, 'learning_rate': 0.3648399720303049, 'size_network': 504}\n",
      "time taken to train: 0.017806053161621094 seconds\n",
      "stop after 100 iteration with investment -10.171100\n",
      "| \u001b[0m 22      \u001b[0m | \u001b[0m-10.17   \u001b[0m | \u001b[0m 0.3648  \u001b[0m | \u001b[0m 3.648   \u001b[0m | \u001b[0m 0.9014  \u001b[0m | \u001b[0m 503.8   \u001b[0m | \u001b[0m 10.25   \u001b[0m | \u001b[0m 10.29   \u001b[0m |\n",
      "\n",
      "Search parameters {'window_size': 22, 'skip': 11, 'population_size': 32, 'sigma': 0.6080851491474037, 'learning_rate': 0.22723865438712595, 'size_network': 157}\n",
      "stop after 100 iteration with investment 0.000000\n",
      "| \u001b[0m 23      \u001b[0m | \u001b[0m 0.0     \u001b[0m | \u001b[0m 0.2272  \u001b[0m | \u001b[0m 31.51   \u001b[0m | \u001b[0m 0.6081  \u001b[0m | \u001b[0m 157.3   \u001b[0m | \u001b[0m 11.26   \u001b[0m | \u001b[0m 21.68   \u001b[0m |\n",
      "\n",
      "Search parameters {'window_size': 15, 'skip': 13, 'population_size': 24, 'sigma': 0.30683259675843255, 'learning_rate': 0.1357915047352419, 'size_network': 621}\n",
      "time taken to train: 1.4041805267333984 seconds\n",
      "stop after 100 iteration with investment 1.559000\n",
      "| \u001b[0m 24      \u001b[0m | \u001b[0m 1.559   \u001b[0m | \u001b[0m 0.1358  \u001b[0m | \u001b[0m 23.92   \u001b[0m | \u001b[0m 0.3068  \u001b[0m | \u001b[0m 621.5   \u001b[0m | \u001b[0m 12.73   \u001b[0m | \u001b[0m 15.37   \u001b[0m |\n",
      "\n",
      "Search parameters {'window_size': 19, 'skip': 13, 'population_size': 7, 'sigma': 0.7734615222602135, 'learning_rate': 0.23867520602266568, 'size_network': 207}\n",
      "time taken to train: 0.015512943267822266 seconds\n",
      "stop after 100 iteration with investment 0.000000\n",
      "| \u001b[0m 25      \u001b[0m | \u001b[0m 0.0     \u001b[0m | \u001b[0m 0.2387  \u001b[0m | \u001b[0m 7.159   \u001b[0m | \u001b[0m 0.7735  \u001b[0m | \u001b[0m 207.1   \u001b[0m | \u001b[0m 13.46   \u001b[0m | \u001b[0m 19.43   \u001b[0m |\n",
      "\n",
      "Search parameters {'window_size': 16, 'skip': 13, 'population_size': 36, 'sigma': 0.6201136485075732, 'learning_rate': 0.0001653844552177984, 'size_network': 26}\n",
      "stop after 100 iteration with investment 0.000000\n",
      "| \u001b[0m 26      \u001b[0m | \u001b[0m 0.0     \u001b[0m | \u001b[0m 0.000165\u001b[0m | \u001b[0m 35.6    \u001b[0m | \u001b[0m 0.6201  \u001b[0m | \u001b[0m 25.97   \u001b[0m | \u001b[0m 13.07   \u001b[0m | \u001b[0m 15.99   \u001b[0m |\n",
      "\n",
      "Search parameters {'window_size': 27, 'skip': 10, 'population_size': 37, 'sigma': 0.6085795674206359, 'learning_rate': 0.2730015250171247, 'size_network': 747}\n",
      "time taken to train: 3.488518238067627 seconds\n",
      "stop after 100 iteration with investment 0.387300\n",
      "| \u001b[0m 27      \u001b[0m | \u001b[0m 0.3873  \u001b[0m | \u001b[0m 0.273   \u001b[0m | \u001b[0m 37.15   \u001b[0m | \u001b[0m 0.6086  \u001b[0m | \u001b[0m 747.1   \u001b[0m | \u001b[0m 10.12   \u001b[0m | \u001b[0m 27.34   \u001b[0m |\n",
      "\n",
      "Search parameters {'window_size': 20, 'skip': 6, 'population_size': 18, 'sigma': 0.8831208588394327, 'learning_rate': 0.2089526999877305, 'size_network': 640}\n",
      "time taken to train: 2.082505226135254 seconds\n",
      "stop after 100 iteration with investment 0.000000\n",
      "| \u001b[0m 28      \u001b[0m | \u001b[0m 0.0     \u001b[0m | \u001b[0m 0.209   \u001b[0m | \u001b[0m 17.59   \u001b[0m | \u001b[0m 0.8831  \u001b[0m | \u001b[0m 640.2   \u001b[0m | \u001b[0m 6.497   \u001b[0m | \u001b[0m 20.07   \u001b[0m |\n",
      "\n",
      "Search parameters {'window_size': 34, 'skip': 14, 'population_size': 3, 'sigma': 0.5384861328766877, 'learning_rate': 0.26612004343309437, 'size_network': 813}\n",
      "stop after 100 iteration with investment 0.000000\n",
      "| \u001b[0m 29      \u001b[0m | \u001b[0m 0.0     \u001b[0m | \u001b[0m 0.2661  \u001b[0m | \u001b[0m 2.692   \u001b[0m | \u001b[0m 0.5385  \u001b[0m | \u001b[0m 813.2   \u001b[0m | \u001b[0m 13.72   \u001b[0m | \u001b[0m 33.52   \u001b[0m |\n",
      "\n",
      "Search parameters {'window_size': 31, 'skip': 14, 'population_size': 5, 'sigma': 0.7189546423385993, 'learning_rate': 0.332122756411015, 'size_network': 433}\n",
      "stop after 100 iteration with investment 0.000000\n",
      "| \u001b[0m 30      \u001b[0m | \u001b[0m 0.0     \u001b[0m | \u001b[0m 0.3321  \u001b[0m | \u001b[0m 5.138   \u001b[0m | \u001b[0m 0.719   \u001b[0m | \u001b[0m 433.3   \u001b[0m | \u001b[0m 13.62   \u001b[0m | \u001b[0m 30.58   \u001b[0m |\n",
      "\n",
      "Search parameters {'window_size': 34, 'skip': 7, 'population_size': 24, 'sigma': 0.27703377860978334, 'learning_rate': 0.20182004295285264, 'size_network': 582}\n"
     ]
    },
    {
     "name": "stderr",
     "output_type": "stream",
     "text": [
      "/usr/lib/python3.7/site-packages/ipykernel_launcher.py:39: RuntimeWarning: invalid value encountered in true_divide\n"
     ]
    },
    {
     "name": "stdout",
     "output_type": "stream",
     "text": [
      "stop after 100 iteration with investment 0.000000\n",
      "| \u001b[0m 31      \u001b[0m | \u001b[0m 0.0     \u001b[0m | \u001b[0m 0.2018  \u001b[0m | \u001b[0m 23.66   \u001b[0m | \u001b[0m 0.277   \u001b[0m | \u001b[0m 582.4   \u001b[0m | \u001b[0m 7.401   \u001b[0m | \u001b[0m 34.19   \u001b[0m |\n",
      "\n",
      "Search parameters {'window_size': 40, 'skip': 6, 'population_size': 24, 'sigma': 0.27153361713490215, 'learning_rate': 0.21764218046375214, 'size_network': 573}\n"
     ]
    },
    {
     "name": "stderr",
     "output_type": "stream",
     "text": [
      "/usr/lib/python3.7/site-packages/ipykernel_launcher.py:39: RuntimeWarning: invalid value encountered in true_divide\n"
     ]
    },
    {
     "name": "stdout",
     "output_type": "stream",
     "text": [
      "stop after 100 iteration with investment 0.000000\n",
      "| \u001b[0m 32      \u001b[0m | \u001b[0m 0.0     \u001b[0m | \u001b[0m 0.2176  \u001b[0m | \u001b[0m 23.55   \u001b[0m | \u001b[0m 0.2715  \u001b[0m | \u001b[0m 573.1   \u001b[0m | \u001b[0m 5.924   \u001b[0m | \u001b[0m 39.55   \u001b[0m |\n",
      "\n",
      "Search parameters {'window_size': 38, 'skip': 7, 'population_size': 24, 'sigma': 0.31545868748583655, 'learning_rate': 0.224842941610404, 'size_network': 578}\n",
      "time taken to train: 2.6648242473602295 seconds\n",
      "stop after 100 iteration with investment 0.359800\n",
      "| \u001b[0m 33      \u001b[0m | \u001b[0m 0.3598  \u001b[0m | \u001b[0m 0.2248  \u001b[0m | \u001b[0m 24.01   \u001b[0m | \u001b[0m 0.3155  \u001b[0m | \u001b[0m 578.1   \u001b[0m | \u001b[0m 6.818   \u001b[0m | \u001b[0m 37.69   \u001b[0m |\n",
      "\n",
      "Search parameters {'window_size': 37, 'skip': 8, 'population_size': 23, 'sigma': 0.41183275117860746, 'learning_rate': 0.2806833772362745, 'size_network': 577}\n",
      "time taken to train: 1.9661219120025635 seconds\n",
      "stop after 100 iteration with investment 0.345600\n",
      "| \u001b[0m 34      \u001b[0m | \u001b[0m 0.3456  \u001b[0m | \u001b[0m 0.2807  \u001b[0m | \u001b[0m 22.74   \u001b[0m | \u001b[0m 0.4118  \u001b[0m | \u001b[0m 576.8   \u001b[0m | \u001b[0m 7.862   \u001b[0m | \u001b[0m 37.03   \u001b[0m |\n",
      "\n",
      "Search parameters {'window_size': 37, 'skip': 7, 'population_size': 22, 'sigma': 0.7951019279815211, 'learning_rate': 0.07998469989167978, 'size_network': 575}\n",
      "time taken to train: 2.4352126121520996 seconds\n",
      "stop after 100 iteration with investment 0.633700\n",
      "| \u001b[0m 35      \u001b[0m | \u001b[0m 0.6337  \u001b[0m | \u001b[0m 0.07998 \u001b[0m | \u001b[0m 22.3    \u001b[0m | \u001b[0m 0.7951  \u001b[0m | \u001b[0m 574.9   \u001b[0m | \u001b[0m 6.63    \u001b[0m | \u001b[0m 37.1    \u001b[0m |\n",
      "\n",
      "Search parameters {'window_size': 16, 'skip': 12, 'population_size': 24, 'sigma': 0.020907272421014512, 'learning_rate': 0.25488461013662783, 'size_network': 620}\n",
      "stop after 100 iteration with investment 0.000000\n",
      "| \u001b[0m 36      \u001b[0m | \u001b[0m 0.0     \u001b[0m | \u001b[0m 0.2549  \u001b[0m | \u001b[0m 24.38   \u001b[0m | \u001b[0m 0.02091 \u001b[0m | \u001b[0m 620.5   \u001b[0m | \u001b[0m 11.92   \u001b[0m | \u001b[0m 16.4    \u001b[0m |\n"
     ]
    },
    {
     "name": "stderr",
     "output_type": "stream",
     "text": [
      "/usr/lib/python3.7/site-packages/ipykernel_launcher.py:39: RuntimeWarning: invalid value encountered in true_divide\n"
     ]
    },
    {
     "name": "stdout",
     "output_type": "stream",
     "text": [
      "\n",
      "Search parameters {'window_size': 36, 'skip': 5, 'population_size': 26, 'sigma': 0.5519745159123964, 'learning_rate': 0.08271258547969625, 'size_network': 576}\n",
      "time taken to train: 3.5289206504821777 seconds\n",
      "stop after 100 iteration with investment 0.150000\n",
      "| \u001b[0m 37      \u001b[0m | \u001b[0m 0.15    \u001b[0m | \u001b[0m 0.08271 \u001b[0m | \u001b[0m 25.54   \u001b[0m | \u001b[0m 0.552   \u001b[0m | \u001b[0m 576.4   \u001b[0m | \u001b[0m 4.972   \u001b[0m | \u001b[0m 36.47   \u001b[0m |\n",
      "\n",
      "Search parameters {'window_size': 8, 'skip': 11, 'population_size': 12, 'sigma': 0.8279388051430361, 'learning_rate': 0.11463619213388888, 'size_network': 124}\n",
      "time taken to train: 0.011415958404541016 seconds\n",
      "stop after 100 iteration with investment 0.000000\n",
      "| \u001b[0m 38      \u001b[0m | \u001b[0m 0.0     \u001b[0m | \u001b[0m 0.1146  \u001b[0m | \u001b[0m 12.4    \u001b[0m | \u001b[0m 0.8279  \u001b[0m | \u001b[0m 124.2   \u001b[0m | \u001b[0m 10.55   \u001b[0m | \u001b[0m 8.165   \u001b[0m |\n",
      "\n",
      "Search parameters {'window_size': 7, 'skip': 8, 'population_size': 14, 'sigma': 0.6392189382653488, 'learning_rate': 0.4254967538012474, 'size_network': 124}\n",
      "time taken to train: 0.01372385025024414 seconds\n",
      "stop after 100 iteration with investment 1.728000\n",
      "| \u001b[0m 39      \u001b[0m | \u001b[0m 1.728   \u001b[0m | \u001b[0m 0.4255  \u001b[0m | \u001b[0m 13.99   \u001b[0m | \u001b[0m 0.6392  \u001b[0m | \u001b[0m 124.0   \u001b[0m | \u001b[0m 8.407   \u001b[0m | \u001b[0m 7.28    \u001b[0m |\n",
      "\n",
      "Search parameters {'window_size': 9, 'skip': 8, 'population_size': 14, 'sigma': 0.6280019642044641, 'learning_rate': 0.10159442414681301, 'size_network': 123}\n",
      "time taken to train: 0.014739513397216797 seconds\n",
      "stop after 100 iteration with investment -10.397202\n",
      "| \u001b[0m 40      \u001b[0m | \u001b[0m-10.4    \u001b[0m | \u001b[0m 0.1016  \u001b[0m | \u001b[0m 14.08   \u001b[0m | \u001b[0m 0.628   \u001b[0m | \u001b[0m 123.4   \u001b[0m | \u001b[0m 7.982   \u001b[0m | \u001b[0m 9.339   \u001b[0m |\n",
      "\n",
      "Search parameters {'window_size': 35, 'skip': 8, 'population_size': 25, 'sigma': 0.5235855372384243, 'learning_rate': 0.20657070635523872, 'size_network': 582}\n"
     ]
    },
    {
     "name": "stderr",
     "output_type": "stream",
     "text": [
      "/usr/lib/python3.7/site-packages/ipykernel_launcher.py:39: RuntimeWarning: invalid value encountered in true_divide\n"
     ]
    },
    {
     "name": "stdout",
     "output_type": "stream",
     "text": [
      "stop after 100 iteration with investment 0.000000\n",
      "| \u001b[0m 41      \u001b[0m | \u001b[0m 0.0     \u001b[0m | \u001b[0m 0.2066  \u001b[0m | \u001b[0m 24.81   \u001b[0m | \u001b[0m 0.5236  \u001b[0m | \u001b[0m 581.5   \u001b[0m | \u001b[0m 8.112   \u001b[0m | \u001b[0m 34.83   \u001b[0m |\n",
      "\n",
      "Search parameters {'window_size': 37, 'skip': 6, 'population_size': 26, 'sigma': 0.758114864840465, 'learning_rate': 0.1113141226186473, 'size_network': 576}\n",
      "time taken to train: 2.8526456356048584 seconds\n",
      "stop after 100 iteration with investment 1.976599\n",
      "| \u001b[95m 42      \u001b[0m | \u001b[95m 1.977   \u001b[0m | \u001b[95m 0.1113  \u001b[0m | \u001b[95m 25.77   \u001b[0m | \u001b[95m 0.7581  \u001b[0m | \u001b[95m 576.2   \u001b[0m | \u001b[95m 5.538   \u001b[0m | \u001b[95m 37.02   \u001b[0m |\n",
      "\n",
      "Search parameters {'window_size': 8, 'skip': 9, 'population_size': 14, 'sigma': 0.28618550349394184, 'learning_rate': 0.18274464499282186, 'size_network': 125}\n",
      "time taken to train: 0.01409292221069336 seconds\n",
      "stop after 100 iteration with investment 0.364100\n",
      "| \u001b[0m 43      \u001b[0m | \u001b[0m 0.3641  \u001b[0m | \u001b[0m 0.1827  \u001b[0m | \u001b[0m 13.82   \u001b[0m | \u001b[0m 0.2862  \u001b[0m | \u001b[0m 125.3   \u001b[0m | \u001b[0m 9.442   \u001b[0m | \u001b[0m 7.899   \u001b[0m |\n",
      "\n",
      "Search parameters {'window_size': 43, 'skip': 3, 'population_size': 14, 'sigma': 0.5127767926265802, 'learning_rate': 0.4517749205522206, 'size_network': 428}\n",
      "time taken to train: 3.026221990585327 seconds\n",
      "stop after 100 iteration with investment 0.667600\n",
      "| \u001b[0m 44      \u001b[0m | \u001b[0m 0.6676  \u001b[0m | \u001b[0m 0.4518  \u001b[0m | \u001b[0m 14.4    \u001b[0m | \u001b[0m 0.5128  \u001b[0m | \u001b[0m 428.2   \u001b[0m | \u001b[0m 3.447   \u001b[0m | \u001b[0m 43.19   \u001b[0m |\n",
      "\n",
      "Search parameters {'window_size': 43, 'skip': 5, 'population_size': 15, 'sigma': 0.38240842419051946, 'learning_rate': 0.400690019819599, 'size_network': 428}\n",
      "time taken to train: 2.00283145904541 seconds\n",
      "stop after 100 iteration with investment 1.936499\n",
      "| \u001b[0m 45      \u001b[0m | \u001b[0m 1.936   \u001b[0m | \u001b[0m 0.4007  \u001b[0m | \u001b[0m 15.19   \u001b[0m | \u001b[0m 0.3824  \u001b[0m | \u001b[0m 427.7   \u001b[0m | \u001b[0m 4.73    \u001b[0m | \u001b[0m 43.26   \u001b[0m |\n",
      "\n",
      "Search parameters {'window_size': 43, 'skip': 5, 'population_size': 15, 'sigma': 0.7815255954658235, 'learning_rate': 0.11805099882783343, 'size_network': 427}\n",
      "time taken to train: 2.017287254333496 seconds\n",
      "stop after 100 iteration with investment 0.387300\n",
      "| \u001b[0m 46      \u001b[0m | \u001b[0m 0.3873  \u001b[0m | \u001b[0m 0.1181  \u001b[0m | \u001b[0m 15.43   \u001b[0m | \u001b[0m 0.7815  \u001b[0m | \u001b[0m 426.6   \u001b[0m | \u001b[0m 5.427   \u001b[0m | \u001b[0m 42.58   \u001b[0m |\n",
      "\n",
      "Search parameters {'window_size': 7, 'skip': 9, 'population_size': 15, 'sigma': 0.2818383257417658, 'learning_rate': 0.22523841810354334, 'size_network': 124}\n",
      "time taken to train: 0.014431238174438477 seconds\n",
      "stop after 100 iteration with investment 0.364100\n",
      "| \u001b[0m 47      \u001b[0m | \u001b[0m 0.3641  \u001b[0m | \u001b[0m 0.2252  \u001b[0m | \u001b[0m 15.05   \u001b[0m | \u001b[0m 0.2818  \u001b[0m | \u001b[0m 123.7   \u001b[0m | \u001b[0m 9.075   \u001b[0m | \u001b[0m 7.476   \u001b[0m |\n",
      "\n",
      "Search parameters {'window_size': 15, 'skip': 12, 'population_size': 25, 'sigma': 0.9713333685742526, 'learning_rate': 0.27306608582253994, 'size_network': 621}\n",
      "time taken to train: 1.4114015102386475 seconds\n",
      "stop after 100 iteration with investment 0.000000\n",
      "| \u001b[0m 48      \u001b[0m | \u001b[0m 0.0     \u001b[0m | \u001b[0m 0.2731  \u001b[0m | \u001b[0m 25.31   \u001b[0m | \u001b[0m 0.9713  \u001b[0m | \u001b[0m 621.0   \u001b[0m | \u001b[0m 12.15   \u001b[0m | \u001b[0m 15.12   \u001b[0m |\n",
      "\n",
      "Search parameters {'window_size': 13, 'skip': 6, 'population_size': 26, 'sigma': 0.760832141303436, 'learning_rate': 0.33899374740179855, 'size_network': 214}\n",
      "time taken to train: 0.046355485916137695 seconds\n",
      "stop after 100 iteration with investment 0.193300\n",
      "| \u001b[0m 49      \u001b[0m | \u001b[0m 0.1933  \u001b[0m | \u001b[0m 0.339   \u001b[0m | \u001b[0m 26.16   \u001b[0m | \u001b[0m 0.7608  \u001b[0m | \u001b[0m 213.9   \u001b[0m | \u001b[0m 6.346   \u001b[0m | \u001b[0m 13.27   \u001b[0m |\n",
      "\n",
      "Search parameters {'window_size': 7, 'skip': 8, 'population_size': 14, 'sigma': 0.18088324277499274, 'learning_rate': 0.4604960791724771, 'size_network': 126}\n",
      "stop after 100 iteration with investment 0.000000\n",
      "| \u001b[0m 50      \u001b[0m | \u001b[0m 0.0     \u001b[0m | \u001b[0m 0.4605  \u001b[0m | \u001b[0m 13.72   \u001b[0m | \u001b[0m 0.1809  \u001b[0m | \u001b[0m 126.0   \u001b[0m | \u001b[0m 7.591   \u001b[0m | \u001b[0m 6.713   \u001b[0m |\n"
     ]
    },
    {
     "name": "stderr",
     "output_type": "stream",
     "text": [
      "/usr/lib/python3.7/site-packages/ipykernel_launcher.py:39: RuntimeWarning: invalid value encountered in true_divide\n"
     ]
    },
    {
     "name": "stdout",
     "output_type": "stream",
     "text": [
      "\n",
      "Search parameters {'window_size': 37, 'skip': 5, 'population_size': 24, 'sigma': 0.28211923948995354, 'learning_rate': 0.22655570709169107, 'size_network': 576}\n"
     ]
    },
    {
     "name": "stderr",
     "output_type": "stream",
     "text": [
      "/usr/lib/python3.7/site-packages/ipykernel_launcher.py:39: RuntimeWarning: invalid value encountered in true_divide\n"
     ]
    },
    {
     "name": "stdout",
     "output_type": "stream",
     "text": [
      "time taken to train: 3.3004372119903564 seconds\n",
      "stop after 100 iteration with investment 0.000000\n",
      "| \u001b[0m 51      \u001b[0m | \u001b[0m 0.0     \u001b[0m | \u001b[0m 0.2266  \u001b[0m | \u001b[0m 23.97   \u001b[0m | \u001b[0m 0.2821  \u001b[0m | \u001b[0m 576.3   \u001b[0m | \u001b[0m 5.084   \u001b[0m | \u001b[0m 37.38   \u001b[0m |\n",
      "\n",
      "Search parameters {'window_size': 36, 'skip': 8, 'population_size': 24, 'sigma': 0.4603276223653263, 'learning_rate': 0.4647030119491388, 'size_network': 576}\n"
     ]
    },
    {
     "name": "stderr",
     "output_type": "stream",
     "text": [
      "/usr/lib/python3.7/site-packages/ipykernel_launcher.py:39: RuntimeWarning: invalid value encountered in true_divide\n"
     ]
    },
    {
     "name": "stdout",
     "output_type": "stream",
     "text": [
      "stop after 100 iteration with investment 0.000000\n",
      "| \u001b[0m 52      \u001b[0m | \u001b[0m 0.0     \u001b[0m | \u001b[0m 0.4647  \u001b[0m | \u001b[0m 23.88   \u001b[0m | \u001b[0m 0.4603  \u001b[0m | \u001b[0m 575.6   \u001b[0m | \u001b[0m 7.656   \u001b[0m | \u001b[0m 36.34   \u001b[0m |\n",
      "\n",
      "Search parameters {'window_size': 15, 'skip': 14, 'population_size': 24, 'sigma': 0.7064535210241477, 'learning_rate': 0.33985977251608906, 'size_network': 621}\n",
      "time taken to train: 1.3274519443511963 seconds\n",
      "stop after 100 iteration with investment 0.000000\n",
      "| \u001b[0m 53      \u001b[0m | \u001b[0m 0.0     \u001b[0m | \u001b[0m 0.3399  \u001b[0m | \u001b[0m 23.53   \u001b[0m | \u001b[0m 0.7065  \u001b[0m | \u001b[0m 620.9   \u001b[0m | \u001b[0m 13.74   \u001b[0m | \u001b[0m 15.1    \u001b[0m |\n",
      "\n",
      "Search parameters {'window_size': 8, 'skip': 8, 'population_size': 15, 'sigma': 0.03194918383611739, 'learning_rate': 0.32187647089661753, 'size_network': 125}\n",
      "stop after 100 iteration with investment 0.000000\n",
      "| \u001b[0m 54      \u001b[0m | \u001b[0m 0.0     \u001b[0m | \u001b[0m 0.3219  \u001b[0m | \u001b[0m 15.42   \u001b[0m | \u001b[0m 0.03195 \u001b[0m | \u001b[0m 125.3   \u001b[0m | \u001b[0m 7.899   \u001b[0m | \u001b[0m 7.992   \u001b[0m |\n"
     ]
    },
    {
     "name": "stderr",
     "output_type": "stream",
     "text": [
      "/usr/lib/python3.7/site-packages/ipykernel_launcher.py:39: RuntimeWarning: invalid value encountered in true_divide\n"
     ]
    },
    {
     "name": "stdout",
     "output_type": "stream",
     "text": [
      "\n",
      "Search parameters {'window_size': 15, 'skip': 5, 'population_size': 26, 'sigma': 0.15126573632049706, 'learning_rate': 0.40326895877596985, 'size_network': 215}\n",
      "stop after 100 iteration with investment 0.000000\n",
      "| \u001b[0m 55      \u001b[0m | \u001b[0m 0.0     \u001b[0m | \u001b[0m 0.4033  \u001b[0m | \u001b[0m 26.39   \u001b[0m | \u001b[0m 0.1513  \u001b[0m | \u001b[0m 215.2   \u001b[0m | \u001b[0m 5.462   \u001b[0m | \u001b[0m 15.42   \u001b[0m |\n"
     ]
    },
    {
     "name": "stderr",
     "output_type": "stream",
     "text": [
      "/usr/lib/python3.7/site-packages/ipykernel_launcher.py:39: RuntimeWarning: invalid value encountered in true_divide\n"
     ]
    },
    {
     "name": "stdout",
     "output_type": "stream",
     "text": [
      "\n",
      "Search parameters {'window_size': 36, 'skip': 7, 'population_size': 22, 'sigma': 0.0483674588387058, 'learning_rate': 0.09221714975017377, 'size_network': 576}\n"
     ]
    },
    {
     "name": "stderr",
     "output_type": "stream",
     "text": [
      "/usr/lib/python3.7/site-packages/ipykernel_launcher.py:39: RuntimeWarning: invalid value encountered in true_divide\n"
     ]
    },
    {
     "name": "stdout",
     "output_type": "stream",
     "text": [
      "stop after 100 iteration with investment 0.000000\n",
      "| \u001b[0m 56      \u001b[0m | \u001b[0m 0.0     \u001b[0m | \u001b[0m 0.09222 \u001b[0m | \u001b[0m 21.84   \u001b[0m | \u001b[0m 0.04837 \u001b[0m | \u001b[0m 576.2   \u001b[0m | \u001b[0m 7.185   \u001b[0m | \u001b[0m 36.29   \u001b[0m |\n",
      "\n",
      "Search parameters {'window_size': 16, 'skip': 13, 'population_size': 23, 'sigma': 0.806724353213149, 'learning_rate': 0.22144016123517488, 'size_network': 620}\n",
      "time taken to train: 1.2662651538848877 seconds\n",
      "stop after 100 iteration with investment -9.532700\n",
      "| \u001b[0m 57      \u001b[0m | \u001b[0m-9.533   \u001b[0m | \u001b[0m 0.2214  \u001b[0m | \u001b[0m 23.08   \u001b[0m | \u001b[0m 0.8067  \u001b[0m | \u001b[0m 620.0   \u001b[0m | \u001b[0m 13.04   \u001b[0m | \u001b[0m 15.99   \u001b[0m |\n",
      "\n",
      "Search parameters {'window_size': 39, 'skip': 5, 'population_size': 24, 'sigma': 0.7294363739623226, 'learning_rate': 0.3718862827054274, 'size_network': 576}\n",
      "time taken to train: 3.3574585914611816 seconds\n",
      "stop after 100 iteration with investment -0.235500\n",
      "| \u001b[0m 58      \u001b[0m | \u001b[0m-0.2355  \u001b[0m | \u001b[0m 0.3719  \u001b[0m | \u001b[0m 24.0    \u001b[0m | \u001b[0m 0.7294  \u001b[0m | \u001b[0m 575.7   \u001b[0m | \u001b[0m 4.969   \u001b[0m | \u001b[0m 38.59   \u001b[0m |\n",
      "\n",
      "Search parameters {'window_size': 36, 'skip': 6, 'population_size': 26, 'sigma': 0.3961846248062949, 'learning_rate': 0.4066514874205045, 'size_network': 576}\n",
      "time taken to train: 2.894777297973633 seconds\n",
      "stop after 100 iteration with investment 0.964499\n",
      "| \u001b[0m 59      \u001b[0m | \u001b[0m 0.9645  \u001b[0m | \u001b[0m 0.4067  \u001b[0m | \u001b[0m 26.0    \u001b[0m | \u001b[0m 0.3962  \u001b[0m | \u001b[0m 575.8   \u001b[0m | \u001b[0m 6.199   \u001b[0m | \u001b[0m 36.23   \u001b[0m |\n",
      "\n",
      "Search parameters {'window_size': 43, 'skip': 6, 'population_size': 15, 'sigma': 0.2910349488816176, 'learning_rate': 0.18730333955997572, 'size_network': 427}\n"
     ]
    },
    {
     "name": "stderr",
     "output_type": "stream",
     "text": [
      "/usr/lib/python3.7/site-packages/ipykernel_launcher.py:39: RuntimeWarning: invalid value encountered in true_divide\n"
     ]
    },
    {
     "name": "stdout",
     "output_type": "stream",
     "text": [
      "time taken to train: 1.6477689743041992 seconds\n",
      "stop after 100 iteration with investment 0.000000\n",
      "| \u001b[0m 60      \u001b[0m | \u001b[0m 0.0     \u001b[0m | \u001b[0m 0.1873  \u001b[0m | \u001b[0m 14.7    \u001b[0m | \u001b[0m 0.291   \u001b[0m | \u001b[0m 426.8   \u001b[0m | \u001b[0m 5.764   \u001b[0m | \u001b[0m 43.49   \u001b[0m |\n",
      "\n",
      "Search parameters {'window_size': 8, 'skip': 11, 'population_size': 13, 'sigma': 0.564487461458122, 'learning_rate': 0.2923377561649422, 'size_network': 126}\n",
      "stop after 100 iteration with investment 0.000000\n",
      "| \u001b[0m 61      \u001b[0m | \u001b[0m 0.0     \u001b[0m | \u001b[0m 0.2923  \u001b[0m | \u001b[0m 12.95   \u001b[0m | \u001b[0m 0.5645  \u001b[0m | \u001b[0m 125.7   \u001b[0m | \u001b[0m 10.67   \u001b[0m | \u001b[0m 7.791   \u001b[0m |\n"
     ]
    },
    {
     "name": "stderr",
     "output_type": "stream",
     "text": [
      "/usr/lib/python3.7/site-packages/ipykernel_launcher.py:39: RuntimeWarning: invalid value encountered in true_divide\n"
     ]
    },
    {
     "name": "stdout",
     "output_type": "stream",
     "text": [
      "\n",
      "Search parameters {'window_size': 39, 'skip': 6, 'population_size': 24, 'sigma': 0.27464480101751826, 'learning_rate': 0.04301551282736163, 'size_network': 576}\n",
      "time taken to train: 2.6399614810943604 seconds\n",
      "stop after 100 iteration with investment 1.010501\n",
      "| \u001b[0m 62      \u001b[0m | \u001b[0m 1.011   \u001b[0m | \u001b[0m 0.04302 \u001b[0m | \u001b[0m 24.09   \u001b[0m | \u001b[0m 0.2746  \u001b[0m | \u001b[0m 575.9   \u001b[0m | \u001b[0m 6.452   \u001b[0m | \u001b[0m 38.87   \u001b[0m |\n",
      "\n",
      "Search parameters {'window_size': 43, 'skip': 5, 'population_size': 15, 'sigma': 0.9221742356745968, 'learning_rate': 0.4739770610017833, 'size_network': 428}\n",
      "time taken to train: 2.0029702186584473 seconds\n",
      "stop after 100 iteration with investment 0.387300\n",
      "| \u001b[0m 63      \u001b[0m | \u001b[0m 0.3873  \u001b[0m | \u001b[0m 0.474   \u001b[0m | \u001b[0m 15.34   \u001b[0m | \u001b[0m 0.9222  \u001b[0m | \u001b[0m 427.6   \u001b[0m | \u001b[0m 4.511   \u001b[0m | \u001b[0m 42.62   \u001b[0m |\n",
      "\n",
      "Search parameters {'window_size': 17, 'skip': 13, 'population_size': 35, 'sigma': 0.4072909855474629, 'learning_rate': 0.3770744316469671, 'size_network': 26}\n",
      "stop after 100 iteration with investment 0.000000\n",
      "| \u001b[0m 64      \u001b[0m | \u001b[0m 0.0     \u001b[0m | \u001b[0m 0.3771  \u001b[0m | \u001b[0m 35.39   \u001b[0m | \u001b[0m 0.4073  \u001b[0m | \u001b[0m 25.95   \u001b[0m | \u001b[0m 12.7    \u001b[0m | \u001b[0m 17.12   \u001b[0m |\n"
     ]
    },
    {
     "name": "stderr",
     "output_type": "stream",
     "text": [
      "/usr/lib/python3.7/site-packages/ipykernel_launcher.py:39: RuntimeWarning: invalid value encountered in true_divide\n"
     ]
    },
    {
     "name": "stdout",
     "output_type": "stream",
     "text": [
      "\n",
      "Search parameters {'window_size': 42, 'skip': 6, 'population_size': 14, 'sigma': 0.2318345002730844, 'learning_rate': 0.31340325584934203, 'size_network': 428}\n"
     ]
    },
    {
     "name": "stderr",
     "output_type": "stream",
     "text": [
      "/usr/lib/python3.7/site-packages/ipykernel_launcher.py:39: RuntimeWarning: invalid value encountered in true_divide\n"
     ]
    },
    {
     "name": "stdout",
     "output_type": "stream",
     "text": [
      "stop after 100 iteration with investment 0.000000\n",
      "| \u001b[0m 65      \u001b[0m | \u001b[0m 0.0     \u001b[0m | \u001b[0m 0.3134  \u001b[0m | \u001b[0m 13.71   \u001b[0m | \u001b[0m 0.2318  \u001b[0m | \u001b[0m 427.9   \u001b[0m | \u001b[0m 6.02    \u001b[0m | \u001b[0m 42.31   \u001b[0m |\n",
      "\n",
      "Search parameters {'window_size': 26, 'skip': 11, 'population_size': 46, 'sigma': 0.9847869793118637, 'learning_rate': 0.04917828173323135, 'size_network': 74}\n",
      "time taken to train: 0.051604270935058594 seconds\n",
      "stop after 100 iteration with investment -9.532700\n",
      "| \u001b[0m 66      \u001b[0m | \u001b[0m-9.533   \u001b[0m | \u001b[0m 0.04918 \u001b[0m | \u001b[0m 46.24   \u001b[0m | \u001b[0m 0.9848  \u001b[0m | \u001b[0m 74.27   \u001b[0m | \u001b[0m 10.54   \u001b[0m | \u001b[0m 25.6    \u001b[0m |\n",
      "\n",
      "Search parameters {'window_size': 14, 'skip': 6, 'population_size': 27, 'sigma': 0.4318286800863697, 'learning_rate': 0.12374151548437, 'size_network': 215}\n",
      "time taken to train: 0.05025911331176758 seconds\n",
      "stop after 100 iteration with investment 0.597500\n",
      "| \u001b[0m 67      \u001b[0m | \u001b[0m 0.5975  \u001b[0m | \u001b[0m 0.1237  \u001b[0m | \u001b[0m 27.48   \u001b[0m | \u001b[0m 0.4318  \u001b[0m | \u001b[0m 214.7   \u001b[0m | \u001b[0m 6.324   \u001b[0m | \u001b[0m 14.02   \u001b[0m |\n",
      "\n",
      "Search parameters {'window_size': 15, 'skip': 7, 'population_size': 27, 'sigma': 0.01882648885134252, 'learning_rate': 0.21736892049561357, 'size_network': 214}\n",
      "stop after 100 iteration with investment 0.000000\n",
      "| \u001b[0m 68      \u001b[0m | \u001b[0m 0.0     \u001b[0m | \u001b[0m 0.2174  \u001b[0m | \u001b[0m 27.19   \u001b[0m | \u001b[0m 0.01883 \u001b[0m | \u001b[0m 214.3   \u001b[0m | \u001b[0m 6.594   \u001b[0m | \u001b[0m 14.65   \u001b[0m |\n"
     ]
    },
    {
     "name": "stderr",
     "output_type": "stream",
     "text": [
      "/usr/lib/python3.7/site-packages/ipykernel_launcher.py:39: RuntimeWarning: invalid value encountered in true_divide\n"
     ]
    },
    {
     "name": "stdout",
     "output_type": "stream",
     "text": [
      "\n",
      "Search parameters {'window_size': 39, 'skip': 7, 'population_size': 23, 'sigma': 0.5817905009246614, 'learning_rate': 0.48016233802637714, 'size_network': 576}\n"
     ]
    },
    {
     "name": "stderr",
     "output_type": "stream",
     "text": [
      "/usr/lib/python3.7/site-packages/ipykernel_launcher.py:39: RuntimeWarning: invalid value encountered in true_divide\n"
     ]
    },
    {
     "name": "stdout",
     "output_type": "stream",
     "text": [
      "stop after 100 iteration with investment 0.000000\n",
      "| \u001b[0m 69      \u001b[0m | \u001b[0m 0.0     \u001b[0m | \u001b[0m 0.4802  \u001b[0m | \u001b[0m 23.31   \u001b[0m | \u001b[0m 0.5818  \u001b[0m | \u001b[0m 575.5   \u001b[0m | \u001b[0m 6.571   \u001b[0m | \u001b[0m 38.85   \u001b[0m |\n",
      "\n",
      "Search parameters {'window_size': 38, 'skip': 6, 'population_size': 26, 'sigma': 0.29603195238053365, 'learning_rate': 0.3086588555505033, 'size_network': 575}\n"
     ]
    },
    {
     "name": "stderr",
     "output_type": "stream",
     "text": [
      "/usr/lib/python3.7/site-packages/ipykernel_launcher.py:39: RuntimeWarning: invalid value encountered in true_divide\n"
     ]
    },
    {
     "name": "stdout",
     "output_type": "stream",
     "text": [
      "stop after 100 iteration with investment 0.000000\n",
      "| \u001b[0m 70      \u001b[0m | \u001b[0m 0.0     \u001b[0m | \u001b[0m 0.3087  \u001b[0m | \u001b[0m 25.52   \u001b[0m | \u001b[0m 0.296   \u001b[0m | \u001b[0m 575.2   \u001b[0m | \u001b[0m 5.983   \u001b[0m | \u001b[0m 38.44   \u001b[0m |\n",
      "\n",
      "Search parameters {'window_size': 16, 'skip': 11, 'population_size': 24, 'sigma': 0.939126789029046, 'learning_rate': 0.20931735763443196, 'size_network': 622}\n",
      "time taken to train: 1.3070669174194336 seconds\n",
      "stop after 100 iteration with investment 0.000000\n",
      "| \u001b[0m 71      \u001b[0m | \u001b[0m 0.0     \u001b[0m | \u001b[0m 0.2093  \u001b[0m | \u001b[0m 24.1    \u001b[0m | \u001b[0m 0.9391  \u001b[0m | \u001b[0m 621.5   \u001b[0m | \u001b[0m 11.07   \u001b[0m | \u001b[0m 15.95   \u001b[0m |\n",
      "\n",
      "Search parameters {'window_size': 36, 'skip': 6, 'population_size': 23, 'sigma': 0.6144524795111548, 'learning_rate': 0.2601259239387442, 'size_network': 576}\n",
      "time taken to train: 2.536564826965332 seconds\n",
      "stop after 100 iteration with investment 0.000000\n",
      "| \u001b[0m 72      \u001b[0m | \u001b[0m 0.0     \u001b[0m | \u001b[0m 0.2601  \u001b[0m | \u001b[0m 23.16   \u001b[0m | \u001b[0m 0.6145  \u001b[0m | \u001b[0m 576.1   \u001b[0m | \u001b[0m 6.044   \u001b[0m | \u001b[0m 35.86   \u001b[0m |\n",
      "\n",
      "Search parameters {'window_size': 38, 'skip': 7, 'population_size': 23, 'sigma': 0.6438478716847392, 'learning_rate': 0.10380839471318497, 'size_network': 576}\n",
      "time taken to train: 2.5508999824523926 seconds\n",
      "stop after 100 iteration with investment 0.000000\n",
      "| \u001b[0m 73      \u001b[0m | \u001b[0m 0.0     \u001b[0m | \u001b[0m 0.1038  \u001b[0m | \u001b[0m 22.67   \u001b[0m | \u001b[0m 0.6438  \u001b[0m | \u001b[0m 576.3   \u001b[0m | \u001b[0m 6.776   \u001b[0m | \u001b[0m 38.19   \u001b[0m |\n",
      "\n",
      "Search parameters {'window_size': 7, 'skip': 7, 'population_size': 15, 'sigma': 0.5793925398220419, 'learning_rate': 0.3685684447817043, 'size_network': 126}\n",
      "time taken to train: 0.01582646369934082 seconds\n",
      "stop after 100 iteration with investment -0.010500\n",
      "| \u001b[0m 74      \u001b[0m | \u001b[0m-0.0105  \u001b[0m | \u001b[0m 0.3686  \u001b[0m | \u001b[0m 15.34   \u001b[0m | \u001b[0m 0.5794  \u001b[0m | \u001b[0m 126.0   \u001b[0m | \u001b[0m 6.586   \u001b[0m | \u001b[0m 7.319   \u001b[0m |\n",
      "\n",
      "Search parameters {'window_size': 43, 'skip': 4, 'population_size': 15, 'sigma': 0.011508818571913073, 'learning_rate': 0.30567800034451076, 'size_network': 426}\n"
     ]
    },
    {
     "name": "stderr",
     "output_type": "stream",
     "text": [
      "/usr/lib/python3.7/site-packages/ipykernel_launcher.py:39: RuntimeWarning: invalid value encountered in true_divide\n"
     ]
    },
    {
     "name": "stdout",
     "output_type": "stream",
     "text": [
      "stop after 100 iteration with investment 0.000000\n",
      "| \u001b[0m 75      \u001b[0m | \u001b[0m 0.0     \u001b[0m | \u001b[0m 0.3057  \u001b[0m | \u001b[0m 15.14   \u001b[0m | \u001b[0m 0.01151 \u001b[0m | \u001b[0m 426.3   \u001b[0m | \u001b[0m 3.876   \u001b[0m | \u001b[0m 42.89   \u001b[0m |\n",
      "\n",
      "Search parameters {'window_size': 41, 'skip': 11, 'population_size': 44, 'sigma': 0.5454309923128964, 'learning_rate': 0.4788120013716578, 'size_network': 443}\n"
     ]
    },
    {
     "name": "stderr",
     "output_type": "stream",
     "text": [
      "/usr/lib/python3.7/site-packages/ipykernel_launcher.py:39: RuntimeWarning: invalid value encountered in true_divide\n"
     ]
    },
    {
     "name": "stdout",
     "output_type": "stream",
     "text": [
      "stop after 100 iteration with investment 0.000000\n",
      "| \u001b[0m 76      \u001b[0m | \u001b[0m 0.0     \u001b[0m | \u001b[0m 0.4788  \u001b[0m | \u001b[0m 44.45   \u001b[0m | \u001b[0m 0.5454  \u001b[0m | \u001b[0m 443.2   \u001b[0m | \u001b[0m 10.55   \u001b[0m | \u001b[0m 40.97   \u001b[0m |\n",
      "\n",
      "Search parameters {'window_size': 37, 'skip': 7, 'population_size': 23, 'sigma': 0.22404601973464977, 'learning_rate': 0.3347104059832889, 'size_network': 575}\n"
     ]
    },
    {
     "name": "stderr",
     "output_type": "stream",
     "text": [
      "/usr/lib/python3.7/site-packages/ipykernel_launcher.py:39: RuntimeWarning: invalid value encountered in true_divide\n"
     ]
    },
    {
     "name": "stdout",
     "output_type": "stream",
     "text": [
      "stop after 100 iteration with investment 0.000000\n",
      "| \u001b[0m 77      \u001b[0m | \u001b[0m 0.0     \u001b[0m | \u001b[0m 0.3347  \u001b[0m | \u001b[0m 22.66   \u001b[0m | \u001b[0m 0.224   \u001b[0m | \u001b[0m 575.2   \u001b[0m | \u001b[0m 7.464   \u001b[0m | \u001b[0m 37.36   \u001b[0m |\n",
      "\n",
      "Search parameters {'window_size': 15, 'skip': 11, 'population_size': 23, 'sigma': 0.8391549126448979, 'learning_rate': 0.2693055416640527, 'size_network': 622}\n",
      "time taken to train: 1.4061954021453857 seconds\n",
      "stop after 100 iteration with investment 0.000000\n",
      "| \u001b[0m 78      \u001b[0m | \u001b[0m 0.0     \u001b[0m | \u001b[0m 0.2693  \u001b[0m | \u001b[0m 23.24   \u001b[0m | \u001b[0m 0.8392  \u001b[0m | \u001b[0m 622.1   \u001b[0m | \u001b[0m 11.48   \u001b[0m | \u001b[0m 15.08   \u001b[0m |\n",
      "\n",
      "Search parameters {'window_size': 36, 'skip': 6, 'population_size': 26, 'sigma': 0.8325731050223231, 'learning_rate': 0.4258779825047773, 'size_network': 575}\n",
      "time taken to train: 3.153632640838623 seconds\n",
      "stop after 100 iteration with investment 0.000000\n",
      "| \u001b[0m 79      \u001b[0m | \u001b[0m 0.0     \u001b[0m | \u001b[0m 0.4259  \u001b[0m | \u001b[0m 25.83   \u001b[0m | \u001b[0m 0.8326  \u001b[0m | \u001b[0m 574.8   \u001b[0m | \u001b[0m 6.303   \u001b[0m | \u001b[0m 35.7    \u001b[0m |\n",
      "\n",
      "Search parameters {'window_size': 27, 'skip': 9, 'population_size': 37, 'sigma': 0.2962491630655576, 'learning_rate': 0.2784756710759564, 'size_network': 747}\n",
      "time taken to train: 3.64705491065979 seconds\n",
      "stop after 100 iteration with investment 0.964499\n",
      "| \u001b[0m 80      \u001b[0m | \u001b[0m 0.9645  \u001b[0m | \u001b[0m 0.2785  \u001b[0m | \u001b[0m 36.82   \u001b[0m | \u001b[0m 0.2962  \u001b[0m | \u001b[0m 746.7   \u001b[0m | \u001b[0m 9.305   \u001b[0m | \u001b[0m 26.72   \u001b[0m |\n",
      "=================================================================================================\n"
     ]
    }
   ],
   "source": [
    "accbest = 0.0\n",
    "NN_BAYESIAN = BayesianOptimization(\n",
    "    find_best_agent,\n",
    "    {\n",
    "        'window_size': (2, 50),\n",
    "        'skip': (1, 15),\n",
    "        'population_size': (1, 50),\n",
    "        'sigma': (0.01, 0.99),\n",
    "        'learning_rate': (0.000001, 0.49),\n",
    "        'size_network': (10, 1000),\n",
    "    },\n",
    ")\n",
    "NN_BAYESIAN.maximize(init_points = 30, n_iter = 50, acq = 'ei', xi = 0.0)"
   ]
  },
  {
   "cell_type": "code",
   "execution_count": 10,
   "metadata": {},
   "outputs": [
    {
     "name": "stdout",
     "output_type": "stream",
     "text": [
      "{'learning_rate': 0.1113141226186473,\n",
      " 'population_size': 25.772558952162992,\n",
      " 'sigma': 0.758114864840465,\n",
      " 'size_network': 576.2208404433251,\n",
      " 'skip': 5.537525034757552,\n",
      " 'window_size': 37.016032190153865}\n"
     ]
    }
   ],
   "source": [
    "bayes_res = str(NN_BAYESIAN.max)\n",
    "bayes_res = json.loads(bayes_res.replace(\"'\", \"\\\"\"))['params']\n",
    "bayes_res['window_size'] = int(round(bayes_res['window_size']))\n",
    "bayes_res['skip'] = int(round(bayes_res['skip']))\n",
    "bayes_res['population_size'] = int(round(bayes_res['population_size']))\n",
    "bayes_res['size_network'] = int(round(bayes_res['size_network']))\n",
    "pprint(bayes_res)"
   ]
  },
  {
   "cell_type": "code",
   "execution_count": 11,
   "metadata": {},
   "outputs": [
    {
     "name": "stdout",
     "output_type": "stream",
     "text": [
      "time taken to train: 9.468717575073242 seconds\n"
     ]
    },
    {
     "data": {
      "text/plain": [
       "-7.060601830000015"
      ]
     },
     "execution_count": 11,
     "metadata": {},
     "output_type": "execute_result"
    }
   ],
   "source": [
    "# this is my parameter\n",
    "best_agent(30, 1, 15, 0.1, 0.03, 500)"
   ]
  },
  {
   "cell_type": "code",
   "execution_count": 12,
   "metadata": {},
   "outputs": [
    {
     "data": {
      "text/plain": [
       "0"
      ]
     },
     "execution_count": 12,
     "metadata": {},
     "output_type": "execute_result"
    }
   ],
   "source": [
    "# this is from bayesian\n",
    "best_agent(bayes_res['window_size']), bayes_res['skip'], bayes_res['population_size'], bayes_res['sigma'], bayes_res['learning_rate'], bayes_res['size_network'])"
   ]
  },
  {
   "cell_type": "code",
   "execution_count": 13,
   "metadata": {},
   "outputs": [
    {
     "name": "stderr",
     "output_type": "stream",
     "text": [
      "/usr/lib/python3.7/site-packages/ipykernel_launcher.py:39: RuntimeWarning: invalid value encountered in true_divide\n"
     ]
    },
    {
     "ename": "ValueError",
     "evalue": "cannot convert float NaN to integer",
     "traceback": [
      "\u001b[0;31m---------------------------------------------------------------------------\u001b[0m",
      "\u001b[0;31mValueError\u001b[0m                                Traceback (most recent call last)",
      "\u001b[0;32m<ipython-input-13-e08555d0e8ac>\u001b[0m in \u001b[0;36m<module>\u001b[0;34m\u001b[0m\n\u001b[1;32m      2\u001b[0m \u001b[0mmodel\u001b[0m \u001b[0;34m=\u001b[0m \u001b[0mModel\u001b[0m\u001b[0;34m(\u001b[0m\u001b[0;36m30\u001b[0m\u001b[0;34m,\u001b[0m \u001b[0;36m500\u001b[0m\u001b[0;34m,\u001b[0m \u001b[0;36m3\u001b[0m\u001b[0;34m)\u001b[0m\u001b[0;34m\u001b[0m\u001b[0;34m\u001b[0m\u001b[0m\n\u001b[1;32m      3\u001b[0m \u001b[0magent\u001b[0m \u001b[0;34m=\u001b[0m \u001b[0mAgent\u001b[0m\u001b[0;34m(\u001b[0m\u001b[0;36m15\u001b[0m\u001b[0;34m,\u001b[0m \u001b[0;36m0.1\u001b[0m\u001b[0;34m,\u001b[0m \u001b[0;36m0.03\u001b[0m\u001b[0;34m,\u001b[0m \u001b[0mmodel\u001b[0m\u001b[0;34m,\u001b[0m \u001b[0;36m10000\u001b[0m\u001b[0;34m,\u001b[0m \u001b[0;36m5\u001b[0m\u001b[0;34m,\u001b[0m \u001b[0;36m5\u001b[0m\u001b[0;34m,\u001b[0m \u001b[0;36m1\u001b[0m\u001b[0;34m,\u001b[0m \u001b[0;36m30\u001b[0m\u001b[0;34m)\u001b[0m\u001b[0;34m\u001b[0m\u001b[0;34m\u001b[0m\u001b[0m\n\u001b[0;32m----> 4\u001b[0;31m \u001b[0magent\u001b[0m\u001b[0;34m.\u001b[0m\u001b[0mfit\u001b[0m\u001b[0;34m(\u001b[0m\u001b[0;36m500\u001b[0m\u001b[0;34m,\u001b[0m \u001b[0;36m100\u001b[0m\u001b[0;34m)\u001b[0m\u001b[0;34m\u001b[0m\u001b[0;34m\u001b[0m\u001b[0m\n\u001b[0m\u001b[1;32m      5\u001b[0m \u001b[0magent\u001b[0m\u001b[0;34m.\u001b[0m\u001b[0mbuy\u001b[0m\u001b[0;34m(\u001b[0m\u001b[0;34m)\u001b[0m\u001b[0;34m\u001b[0m\u001b[0;34m\u001b[0m\u001b[0m\n",
      "\u001b[0;32m<ipython-input-6-03183c90c682>\u001b[0m in \u001b[0;36mfit\u001b[0;34m(self, iterations, checkpoint)\u001b[0m\n\u001b[1;32m     67\u001b[0m \u001b[0;34m\u001b[0m\u001b[0m\n\u001b[1;32m     68\u001b[0m     \u001b[0;32mdef\u001b[0m \u001b[0mfit\u001b[0m\u001b[0;34m(\u001b[0m\u001b[0mself\u001b[0m\u001b[0;34m,\u001b[0m \u001b[0miterations\u001b[0m\u001b[0;34m,\u001b[0m \u001b[0mcheckpoint\u001b[0m\u001b[0;34m)\u001b[0m\u001b[0;34m:\u001b[0m\u001b[0;34m\u001b[0m\u001b[0;34m\u001b[0m\u001b[0m\n\u001b[0;32m---> 69\u001b[0;31m         \u001b[0mself\u001b[0m\u001b[0;34m.\u001b[0m\u001b[0mes\u001b[0m\u001b[0;34m.\u001b[0m\u001b[0mtrain\u001b[0m\u001b[0;34m(\u001b[0m\u001b[0miterations\u001b[0m\u001b[0;34m,\u001b[0m \u001b[0mprint_every\u001b[0m \u001b[0;34m=\u001b[0m \u001b[0mcheckpoint\u001b[0m\u001b[0;34m)\u001b[0m\u001b[0;34m\u001b[0m\u001b[0;34m\u001b[0m\u001b[0m\n\u001b[0m\u001b[1;32m     70\u001b[0m \u001b[0;34m\u001b[0m\u001b[0m\n\u001b[1;32m     71\u001b[0m     \u001b[0;32mdef\u001b[0m \u001b[0mbuy\u001b[0m\u001b[0;34m(\u001b[0m\u001b[0mself\u001b[0m\u001b[0;34m)\u001b[0m\u001b[0;34m:\u001b[0m\u001b[0;34m\u001b[0m\u001b[0;34m\u001b[0m\u001b[0m\n",
      "\u001b[0;32m<ipython-input-5-4efaf2b7209b>\u001b[0m in \u001b[0;36mtrain\u001b[0;34m(self, epoch, print_every)\u001b[0m\n\u001b[1;32m     36\u001b[0m                     \u001b[0mself\u001b[0m\u001b[0;34m.\u001b[0m\u001b[0mweights\u001b[0m\u001b[0;34m,\u001b[0m \u001b[0mpopulation\u001b[0m\u001b[0;34m[\u001b[0m\u001b[0mk\u001b[0m\u001b[0;34m]\u001b[0m\u001b[0;34m\u001b[0m\u001b[0;34m\u001b[0m\u001b[0m\n\u001b[1;32m     37\u001b[0m                 )\n\u001b[0;32m---> 38\u001b[0;31m                 \u001b[0mrewards\u001b[0m\u001b[0;34m[\u001b[0m\u001b[0mk\u001b[0m\u001b[0;34m]\u001b[0m \u001b[0;34m=\u001b[0m \u001b[0mself\u001b[0m\u001b[0;34m.\u001b[0m\u001b[0mreward_function\u001b[0m\u001b[0;34m(\u001b[0m\u001b[0mweights_population\u001b[0m\u001b[0;34m)\u001b[0m\u001b[0;34m\u001b[0m\u001b[0;34m\u001b[0m\u001b[0m\n\u001b[0m\u001b[1;32m     39\u001b[0m             \u001b[0mrewards\u001b[0m \u001b[0;34m=\u001b[0m \u001b[0;34m(\u001b[0m\u001b[0mrewards\u001b[0m \u001b[0;34m-\u001b[0m \u001b[0mnp\u001b[0m\u001b[0;34m.\u001b[0m\u001b[0mmean\u001b[0m\u001b[0;34m(\u001b[0m\u001b[0mrewards\u001b[0m\u001b[0;34m)\u001b[0m\u001b[0;34m)\u001b[0m \u001b[0;34m/\u001b[0m \u001b[0mnp\u001b[0m\u001b[0;34m.\u001b[0m\u001b[0mstd\u001b[0m\u001b[0;34m(\u001b[0m\u001b[0mrewards\u001b[0m\u001b[0;34m)\u001b[0m\u001b[0;34m\u001b[0m\u001b[0;34m\u001b[0m\u001b[0m\n\u001b[1;32m     40\u001b[0m             \u001b[0;32mfor\u001b[0m \u001b[0mindex\u001b[0m\u001b[0;34m,\u001b[0m \u001b[0mw\u001b[0m \u001b[0;32min\u001b[0m \u001b[0menumerate\u001b[0m\u001b[0;34m(\u001b[0m\u001b[0mself\u001b[0m\u001b[0;34m.\u001b[0m\u001b[0mweights\u001b[0m\u001b[0;34m)\u001b[0m\u001b[0;34m:\u001b[0m\u001b[0;34m\u001b[0m\u001b[0;34m\u001b[0m\u001b[0m\n",
      "\u001b[0;32m<ipython-input-6-03183c90c682>\u001b[0m in \u001b[0;36mget_reward\u001b[0;34m(self, weights)\u001b[0m\n\u001b[1;32m     41\u001b[0m         \u001b[0mquantity\u001b[0m \u001b[0;34m=\u001b[0m \u001b[0;36m0\u001b[0m\u001b[0;34m\u001b[0m\u001b[0;34m\u001b[0m\u001b[0m\n\u001b[1;32m     42\u001b[0m         \u001b[0;32mfor\u001b[0m \u001b[0mt\u001b[0m \u001b[0;32min\u001b[0m \u001b[0mrange\u001b[0m\u001b[0;34m(\u001b[0m\u001b[0;36m0\u001b[0m\u001b[0;34m,\u001b[0m \u001b[0ml\u001b[0m\u001b[0;34m,\u001b[0m \u001b[0mself\u001b[0m\u001b[0;34m.\u001b[0m\u001b[0mskip\u001b[0m\u001b[0;34m)\u001b[0m\u001b[0;34m:\u001b[0m\u001b[0;34m\u001b[0m\u001b[0;34m\u001b[0m\u001b[0m\n\u001b[0;32m---> 43\u001b[0;31m             \u001b[0maction\u001b[0m\u001b[0;34m,\u001b[0m \u001b[0mbuy\u001b[0m \u001b[0;34m=\u001b[0m \u001b[0mself\u001b[0m\u001b[0;34m.\u001b[0m\u001b[0mact\u001b[0m\u001b[0;34m(\u001b[0m\u001b[0mstate\u001b[0m\u001b[0;34m)\u001b[0m\u001b[0;34m\u001b[0m\u001b[0;34m\u001b[0m\u001b[0m\n\u001b[0m\u001b[1;32m     44\u001b[0m             \u001b[0mnext_state\u001b[0m \u001b[0;34m=\u001b[0m \u001b[0mget_state\u001b[0m\u001b[0;34m(\u001b[0m\u001b[0mclose\u001b[0m\u001b[0;34m,\u001b[0m \u001b[0mt\u001b[0m \u001b[0;34m+\u001b[0m \u001b[0;36m1\u001b[0m\u001b[0;34m,\u001b[0m \u001b[0mself\u001b[0m\u001b[0;34m.\u001b[0m\u001b[0mwindow_size\u001b[0m \u001b[0;34m+\u001b[0m \u001b[0;36m1\u001b[0m\u001b[0;34m)\u001b[0m\u001b[0;34m\u001b[0m\u001b[0;34m\u001b[0m\u001b[0m\n\u001b[1;32m     45\u001b[0m             \u001b[0;32mif\u001b[0m \u001b[0maction\u001b[0m \u001b[0;34m==\u001b[0m \u001b[0;36m1\u001b[0m \u001b[0;32mand\u001b[0m \u001b[0minitial_money\u001b[0m \u001b[0;34m>=\u001b[0m \u001b[0mclose\u001b[0m\u001b[0;34m[\u001b[0m\u001b[0mt\u001b[0m\u001b[0;34m]\u001b[0m\u001b[0;34m:\u001b[0m\u001b[0;34m\u001b[0m\u001b[0;34m\u001b[0m\u001b[0m\n",
      "\u001b[0;32m<ipython-input-6-03183c90c682>\u001b[0m in \u001b[0;36mact\u001b[0;34m(self, sequence)\u001b[0m\n\u001b[1;32m     31\u001b[0m     \u001b[0;32mdef\u001b[0m \u001b[0mact\u001b[0m\u001b[0;34m(\u001b[0m\u001b[0mself\u001b[0m\u001b[0;34m,\u001b[0m \u001b[0msequence\u001b[0m\u001b[0;34m)\u001b[0m\u001b[0;34m:\u001b[0m\u001b[0;34m\u001b[0m\u001b[0;34m\u001b[0m\u001b[0m\n\u001b[1;32m     32\u001b[0m         \u001b[0mdecision\u001b[0m\u001b[0;34m,\u001b[0m \u001b[0mbuy\u001b[0m \u001b[0;34m=\u001b[0m \u001b[0mself\u001b[0m\u001b[0;34m.\u001b[0m\u001b[0mmodel\u001b[0m\u001b[0;34m.\u001b[0m\u001b[0mpredict\u001b[0m\u001b[0;34m(\u001b[0m\u001b[0mnp\u001b[0m\u001b[0;34m.\u001b[0m\u001b[0marray\u001b[0m\u001b[0;34m(\u001b[0m\u001b[0msequence\u001b[0m\u001b[0;34m)\u001b[0m\u001b[0;34m)\u001b[0m\u001b[0;34m\u001b[0m\u001b[0;34m\u001b[0m\u001b[0m\n\u001b[0;32m---> 33\u001b[0;31m         \u001b[0;32mreturn\u001b[0m \u001b[0mnp\u001b[0m\u001b[0;34m.\u001b[0m\u001b[0margmax\u001b[0m\u001b[0;34m(\u001b[0m\u001b[0mdecision\u001b[0m\u001b[0;34m[\u001b[0m\u001b[0;36m0\u001b[0m\u001b[0;34m]\u001b[0m\u001b[0;34m)\u001b[0m\u001b[0;34m,\u001b[0m \u001b[0mint\u001b[0m\u001b[0;34m(\u001b[0m\u001b[0mbuy\u001b[0m\u001b[0;34m[\u001b[0m\u001b[0;36m0\u001b[0m\u001b[0;34m]\u001b[0m\u001b[0;34m)\u001b[0m\u001b[0;34m\u001b[0m\u001b[0;34m\u001b[0m\u001b[0m\n\u001b[0m\u001b[1;32m     34\u001b[0m \u001b[0;34m\u001b[0m\u001b[0m\n\u001b[1;32m     35\u001b[0m     \u001b[0;32mdef\u001b[0m \u001b[0mget_reward\u001b[0m\u001b[0;34m(\u001b[0m\u001b[0mself\u001b[0m\u001b[0;34m,\u001b[0m \u001b[0mweights\u001b[0m\u001b[0;34m)\u001b[0m\u001b[0;34m:\u001b[0m\u001b[0;34m\u001b[0m\u001b[0;34m\u001b[0m\u001b[0m\n",
      "\u001b[0;31mValueError\u001b[0m: cannot convert float NaN to integer"
     ],
     "output_type": "error"
    }
   ],
   "source": [
    "# this is my parameter\n",
    "model = Model(30, 500, 3)\n",
    "agent = Agent(15, 0.1, 0.03, model, 10000, 5, 5, 1, 30)\n",
    "agent.fit(500, 100)\n",
    "agent.buy()"
   ]
  },
  {
   "cell_type": "code",
   "execution_count": null,
   "metadata": {},
   "outputs": [],
   "source": [
    "# this is from bayesian\n",
    "model = Model(20, 176, 3)\n",
    "agent = Agent(bayes_res['population_size'], bayes_res['sigma'], bayes_res['learning_rate'], model, 10000, 5, 5, bayes_res['skip'], bayes_res['window_size'])\n",
    "agent.fit(500, 100)\n",
    "agent.buy()"
   ]
  },
  {
   "cell_type": "code",
   "execution_count": null,
   "metadata": {},
   "outputs": [],
   "source": []
  }
 ],
 "metadata": {
  "kernelspec": {
   "display_name": "Python 3",
   "language": "python",
   "name": "python3"
  },
  "language_info": {
   "codemirror_mode": {
    "name": "ipython",
    "version": 3
   },
   "file_extension": ".py",
   "mimetype": "text/x-python",
   "name": "python",
   "nbconvert_exporter": "python",
   "pygments_lexer": "ipython3",
   "version": "3.7.2"
  }
 },
 "nbformat": 4,
 "nbformat_minor": 2
}
